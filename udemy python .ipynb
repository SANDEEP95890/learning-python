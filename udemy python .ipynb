{
 "cells": [
  {
   "cell_type": "code",
   "execution_count": 1,
   "metadata": {},
   "outputs": [
    {
     "name": "stdout",
     "output_type": "stream",
     "text": [
      "(1, 2, 3, 4, 5, 6)\n",
      "21\n",
      "6\n"
     ]
    }
   ],
   "source": [
    "def myfunc(*args):\n",
    "    print(args)\n",
    "    print(sum(args))\n",
    "    print(len(args))\n",
    "myfunc(1,2,3,4,5,6)"
   ]
  },
  {
   "cell_type": "code",
   "execution_count": 2,
   "metadata": {},
   "outputs": [
    {
     "data": {
      "text/plain": [
       "[2, 4, 6]"
      ]
     },
     "execution_count": 2,
     "metadata": {},
     "output_type": "execute_result"
    }
   ],
   "source": [
    "def myfunc(*args):\n",
    "    list=[]\n",
    "    for item in args:\n",
    "        if item%2==0:\n",
    "            list.append(item)\n",
    "    return list\n",
    "myfunc(2,3,4,5,6)"
   ]
  },
  {
   "cell_type": "code",
   "execution_count": 3,
   "metadata": {},
   "outputs": [
    {
     "data": {
      "text/plain": [
       "[2, 4, 6]"
      ]
     },
     "execution_count": 3,
     "metadata": {},
     "output_type": "execute_result"
    }
   ],
   "source": [
    "def myfunc(*args):\n",
    "\n",
    "    return[ x for x in args if x%2==0]\n",
    "myfunc(1,2,3,4,5,6,7)"
   ]
  },
  {
   "cell_type": "code",
   "execution_count": 4,
   "metadata": {},
   "outputs": [
    {
     "data": {
      "text/plain": [
       "'aNdANd'"
      ]
     },
     "execution_count": 4,
     "metadata": {},
     "output_type": "execute_result"
    }
   ],
   "source": [
    "def myfunc(string):\n",
    "    lit=list(string)\n",
    "    string2=''\n",
    "    for n in lit:\n",
    "        if lit.index(n)%2==0:\n",
    "            string2+=n.lower()\n",
    "        else:\n",
    "            string2+=n.upper()\n",
    "    return string2\n",
    "myfunc('Andand')"
   ]
  },
  {
   "cell_type": "code",
   "execution_count": 5,
   "metadata": {},
   "outputs": [
    {
     "data": {
      "text/plain": [
       "'aNdAnD'"
      ]
     },
     "execution_count": 5,
     "metadata": {},
     "output_type": "execute_result"
    }
   ],
   "source": [
    "def myfunc(string):\n",
    "    string2=''\n",
    "    for pos,item in enumerate(string):\n",
    "        if pos%2==0:\n",
    "            string2+=item.lower()\n",
    "        else:\n",
    "            string2+=item.upper()\n",
    "    return string2\n",
    "myfunc('Andand')"
   ]
  },
  {
   "cell_type": "code",
   "execution_count": 6,
   "metadata": {},
   "outputs": [
    {
     "data": {
      "text/plain": [
       "'C'"
      ]
     },
     "execution_count": 6,
     "metadata": {},
     "output_type": "execute_result"
    }
   ],
   "source": [
    "a=['a','b','c','d','e']\n",
    "b=''\n",
    "b+=(a[2]).upper()\n",
    "b"
   ]
  },
  {
   "cell_type": "code",
   "execution_count": 7,
   "metadata": {},
   "outputs": [
    {
     "data": {
      "text/plain": [
       "9592"
      ]
     },
     "execution_count": 7,
     "metadata": {},
     "output_type": "execute_result"
    }
   ],
   "source": [
    "def count_prime(num):\n",
    "    \n",
    "    if num < 2:\n",
    "        return 0\n",
    "    \n",
    "    prime=[2]\n",
    "    x = 3\n",
    "    \n",
    "    while x <= num:\n",
    "        for y in prime:\n",
    "            if x%y==0:\n",
    "                x += 2\n",
    "                break\n",
    "        else:\n",
    "            prime.append(x)\n",
    "            x += 2\n",
    "    return len(prime)\n",
    "\n",
    "count_prime(100000)"
   ]
  },
  {
   "cell_type": "code",
   "execution_count": 6,
   "metadata": {},
   "outputs": [],
   "source": [
    "n=[1, 2, 3, 4, 5, 6]"
   ]
  },
  {
   "cell_type": "code",
   "execution_count": 2,
   "metadata": {},
   "outputs": [
    {
     "name": "stdout",
     "output_type": "stream",
     "text": [
      "('baba', 1)\n",
      "('baba', 2)\n",
      "('baba', 3)\n",
      "('baba', 4)\n",
      "('baba', 5)\n",
      "('baba', 6)\n"
     ]
    }
   ],
   "source": [
    "def func(n):\n",
    "    return(\"baba\",n)\n",
    "n=[1,2,3,4,5,6]\n",
    "for i in map(func,n):\n",
    "    print (i)"
   ]
  },
  {
   "cell_type": "code",
   "execution_count": 3,
   "metadata": {},
   "outputs": [
    {
     "ename": "NameError",
     "evalue": "name 'math' is not defined",
     "output_type": "error",
     "traceback": [
      "\u001b[1;31m---------------------------------------------------------------------------\u001b[0m",
      "\u001b[1;31mNameError\u001b[0m                                 Traceback (most recent call last)",
      "\u001b[1;32m<ipython-input-3-224a0c51b29a>\u001b[0m in \u001b[0;36m<module>\u001b[1;34m\u001b[0m\n\u001b[1;32m----> 1\u001b[1;33m \u001b[0mlist\u001b[0m\u001b[1;33m(\u001b[0m\u001b[0mmap\u001b[0m\u001b[1;33m(\u001b[0m\u001b[0mmath\u001b[0m\u001b[1;33m.\u001b[0m\u001b[0msqrt\u001b[0m\u001b[1;33m,\u001b[0m\u001b[0mn\u001b[0m\u001b[1;33m)\u001b[0m\u001b[1;33m)\u001b[0m\u001b[1;33m\u001b[0m\u001b[1;33m\u001b[0m\u001b[0m\n\u001b[0m",
      "\u001b[1;31mNameError\u001b[0m: name 'math' is not defined"
     ]
    }
   ],
   "source": [
    "list(map(math.sqrt,n))"
   ]
  },
  {
   "cell_type": "code",
   "execution_count": 4,
   "metadata": {},
   "outputs": [
    {
     "data": {
      "text/plain": [
       "[False, True, False, True, False, True]"
      ]
     },
     "execution_count": 4,
     "metadata": {},
     "output_type": "execute_result"
    }
   ],
   "source": [
    "list(map(lambda n:n%2==0,n))"
   ]
  },
  {
   "cell_type": "code",
   "execution_count": null,
   "metadata": {},
   "outputs": [],
   "source": [
    "list(filter(lambda num:num%2==0,n))"
   ]
  },
  {
   "cell_type": "code",
   "execution_count": 7,
   "metadata": {},
   "outputs": [
    {
     "data": {
      "text/plain": [
       "[1, 2, 3, 4, 5, 6]"
      ]
     },
     "execution_count": 7,
     "metadata": {},
     "output_type": "execute_result"
    }
   ],
   "source": [
    "list(filter(lambda n:n**2,n))"
   ]
  },
  {
   "cell_type": "code",
   "execution_count": 8,
   "metadata": {},
   "outputs": [
    {
     "data": {
      "text/plain": [
       "[1, 4, 9, 16, 25, 36]"
      ]
     },
     "execution_count": 8,
     "metadata": {},
     "output_type": "execute_result"
    }
   ],
   "source": [
    "list(map(lambda n:n**2,n))"
   ]
  },
  {
   "cell_type": "code",
   "execution_count": null,
   "metadata": {},
   "outputs": [],
   "source": [
    "for i in map(lambda n:n*2,n):\n",
    "    print(i)"
   ]
  },
  {
   "cell_type": "code",
   "execution_count": null,
   "metadata": {},
   "outputs": [],
   "source": [
    "a='san'\n",
    "print('hallo',a)\n",
    "print('hallo'+a)\n",
    "print('hallo'*2)\n",
    "print('hallo'  'san')\n",
    "print('hallo {}'  ' deep'.format(a))\n",
    "print('hallo {}'  '{} deep'.format(a,a))\n",
    "print(f'hello {a}')\n",
    "print(f'hello {a}'  '{a}deep')\n",
    "print(f'hello {a} '  f'{a} deep')"
   ]
  },
  {
   "cell_type": "markdown",
   "metadata": {},
   "source": [
    "# L E G B\n",
    "L-LOCAL\n",
    "E-ENCLOSED\n",
    "G-GLOBLE\n",
    "B-BUILT IN"
   ]
  },
  {
   "cell_type": "code",
   "execution_count": null,
   "metadata": {},
   "outputs": [],
   "source": [
    "x=50\n",
    "def legb():\n",
    "    global x\n",
    "    x=20\n",
    "    print(x,'enclosed,changed global')\n",
    "    def ho():\n",
    "        x=10\n",
    "        print(x,'local,global not changed defined outside function')\n",
    "    \n",
    "    \n",
    "    ho()        "
   ]
  },
  {
   "cell_type": "code",
   "execution_count": null,
   "metadata": {},
   "outputs": [],
   "source": [
    "print(x)"
   ]
  },
  {
   "cell_type": "code",
   "execution_count": null,
   "metadata": {},
   "outputs": [],
   "source": [
    "legb()"
   ]
  },
  {
   "cell_type": "code",
   "execution_count": null,
   "metadata": {},
   "outputs": [],
   "source": [
    "print(x)"
   ]
  },
  {
   "cell_type": "code",
   "execution_count": null,
   "metadata": {},
   "outputs": [],
   "source": [
    "global x"
   ]
  },
  {
   "cell_type": "code",
   "execution_count": null,
   "metadata": {},
   "outputs": [],
   "source": [
    "x"
   ]
  },
  {
   "cell_type": "code",
   "execution_count": null,
   "metadata": {},
   "outputs": [],
   "source": [
    "def passing():\n",
    "    pass"
   ]
  },
  {
   "cell_type": "code",
   "execution_count": null,
   "metadata": {},
   "outputs": [],
   "source": [
    "def Palindrome(string):\n",
    "    return string==string[::-1]\n",
    "Palindrome('abcccba')"
   ]
  },
  {
   "cell_type": "code",
   "execution_count": null,
   "metadata": {},
   "outputs": [],
   "source": [
    "num=25\n",
    "if num in range(20,50,5):\n",
    "    print(\"yes\")"
   ]
  },
  {
   "cell_type": "markdown",
   "metadata": {},
   "source": [
    "\n",
    "Write a Python function that accepts a string and calculate the number of upper case letters and lower case letters.\n",
    "\n",
    "Sample String : 'Hello Mr. Rogers, how are you this fine Tuesday?'\n",
    "Expected Output : \n",
    "No. of Upper case characters : 4\n",
    "No. of Lower case Characters : 33\n",
    "\n",
    "If you feel ambitious, explore the Collections module to solve this problem!\n"
   ]
  },
  {
   "cell_type": "code",
   "execution_count": null,
   "metadata": {},
   "outputs": [],
   "source": [
    "def up_low(s):\n",
    "    d={\"upper\":0, \"lower\":0}\n",
    "    for c in s:\n",
    "        if c.isupper():\n",
    "            d[\"upper\"]+=1\n",
    "        elif c.islower():\n",
    "            d[\"lower\"]+=1\n",
    "        else:\n",
    "            pass\n",
    "    print (\"Original String : \", s)\n",
    "    print (\"No. of Upper case characters : \", d[\"upper\"])\n",
    "    print (\"No. of Lower case Characters : \", d[\"lower\"])"
   ]
  },
  {
   "cell_type": "code",
   "execution_count": null,
   "metadata": {},
   "outputs": [],
   "source": [
    "def unique_list(l):\n",
    "    # Also possible to use list(set())\n",
    "    x = []\n",
    "    for a in l:\n",
    "        if a not in x:\n",
    "            x.append(a)\n",
    "    return x\n",
    "unique_list([1,1,1,1,2,2,3,3,3,3,4,5])"
   ]
  },
  {
   "cell_type": "code",
   "execution_count": null,
   "metadata": {},
   "outputs": [],
   "source": [
    "print(list(set([1,1,1,1,2,2,3,3,3,3,4,5])))"
   ]
  },
  {
   "cell_type": "markdown",
   "metadata": {},
   "source": [
    "Write a Python function to check whether a string is pangram or not.\n",
    "\n",
    "Note : Pangrams are words or sentences containing every letter of the alphabet at least once.\n",
    "For example : \"The quick brown fox jumps over the lazy dog\"\n",
    "\n",
    "Hint: Look at the string module\n"
   ]
  },
  {
   "cell_type": "code",
   "execution_count": null,
   "metadata": {},
   "outputs": [],
   "source": [
    "import string\n",
    "\n",
    "def ispangram(str, alphabet=string.ascii_lowercase):  \n",
    "    alphaset = set(alphabet)  \n",
    "    return alphaset <= set(str.lower())  \n",
    "\n",
    "ispangram(\"The quick brown fox jumps over the lazy dog\")"
   ]
  },
  {
   "cell_type": "code",
   "execution_count": null,
   "metadata": {},
   "outputs": [],
   "source": [
    "string.ascii_lowercase"
   ]
  },
  {
   "cell_type": "code",
   "execution_count": null,
   "metadata": {},
   "outputs": [],
   "source": [
    "set('The quick brown fox jumps over the lazy dog')>=set(string.ascii_lowercase)"
   ]
  },
  {
   "cell_type": "markdown",
   "metadata": {},
   "source": [
    "# TIC TAC TOE"
   ]
  },
  {
   "cell_type": "code",
   "execution_count": 4,
   "metadata": {},
   "outputs": [],
   "source": [
    "from IPython.display import clear_output\n",
    "\n",
    "dic=['7',' ',' ',' ',' ',' ',' ',' ',' ',' ']\n",
    "def display():\n",
    "    clear_output(wait=True)\n",
    "    print(dic[1], '|', dic[2], '|', dic[3])\n",
    "    print('---------')\n",
    "    print(dic[4], '|', dic[5], '|', dic[6])\n",
    "    print('---------')\n",
    "    print(dic[7], '|', dic[8], '|', dic[9])\n",
    "    #print('\\n'*5)"
   ]
  },
  {
   "cell_type": "code",
   "execution_count": 5,
   "metadata": {},
   "outputs": [],
   "source": [
    "def check_win():\n",
    "    if dic[1]==dic[2]==dic[3] or dic[3]==dic[6]==dic[9]  :\n",
    "        if dic[3]=='o':\n",
    "            print(\"congo player -o- win\")\n",
    "        elif dic[3]=='x':\n",
    "             print(\"congo player -x- win\")\n",
    "    if dic[1]==dic[4]==dic[7]  or dic[7]==dic[8]==dic[9] :\n",
    "        if dic[7]=='o':\n",
    "            print(\"congo player -o- win\")\n",
    "        elif dic[7]=='x':\n",
    "             print(\"congo player -x- win\")\n",
    "    if dic[1]==dic[5]==dic[9]  or dic[4]==dic[5]==dic[6] or dic[3]==dic[5]==dic[7] or dic[2]==dic[5]==dic[8]:\n",
    "        if dic[5]=='o':\n",
    "            print(\"congo player -o- win\")\n",
    "        elif dic[5]=='x':\n",
    "             print(\"congo player -x- win\")"
   ]
  },
  {
   "cell_type": "code",
   "execution_count": 6,
   "metadata": {},
   "outputs": [],
   "source": [
    "def tie():\n",
    "    if ' ' not in dic:\n",
    "        print('game tie')\n",
    "        return True\n",
    "    else:return False"
   ]
  },
  {
   "cell_type": "code",
   "execution_count": 7,
   "metadata": {},
   "outputs": [],
   "source": [
    "def game(dic):\n",
    "    while True:\n",
    "        position1=int(input('player 1- '))\n",
    "        if position1==0 :\n",
    "            break\n",
    "        else:\n",
    "            while True:\n",
    "                if dic[position1]==' ':\n",
    "                    dic[position1]=player1\n",
    "                    break\n",
    "                else:\n",
    "                    print('\\n no cheat')\n",
    "                    position1=int(input('player 1- '))\n",
    "        display()\n",
    "        if tie() or check_win():\n",
    "            break\n",
    "        position2=int(input('player 2- '))\n",
    "        if position2==0:\n",
    "            break\n",
    "        else:\n",
    "            while True:\n",
    "                if dic[position2]==' ':\n",
    "                    dic[position2]=player2\n",
    "                    break\n",
    "                else:\n",
    "                    print('\\n no cheat')\n",
    "                    position2=int(input('player 2- '))\n",
    "        display()\n",
    "        if tie() or check_win():\n",
    "            break"
   ]
  },
  {
   "cell_type": "code",
   "execution_count": null,
   "metadata": {},
   "outputs": [
    {
     "name": "stdout",
     "output_type": "stream",
     "text": [
      "  |   | x\n",
      "---------\n",
      "  | o |  \n",
      "---------\n",
      "o |   |  \n"
     ]
    }
   ],
   "source": [
    "dic=['7',' ',' ',' ',' ',' ',' ',' ',' ',' ']\n",
    "print(\"x or o\")\n",
    "player1=input('player 1---')\n",
    "\n",
    "if player1=='x':\n",
    "    print('player 2---o')\n",
    "    player2='o'\n",
    "else:\n",
    "    print('player 2---x')\n",
    "    player2='x'\n",
    "    \n",
    "dis=input(\"start game   y / n \")\n",
    "if dis =='y':\n",
    "    display()\n",
    "    game(dic)\n",
    "\n"
   ]
  },
  {
   "cell_type": "markdown",
   "metadata": {},
   "source": [
    " while True:\n",
    "    a=int(input('a-'))\n",
    "    if a==0:\n",
    "        break\n",
    "    else:\n",
    "        while True:\n",
    "            b=int(input('b-'))\n",
    "            if b==0:\n",
    "                break"
   ]
  },
  {
   "cell_type": "code",
   "execution_count": 1,
   "metadata": {},
   "outputs": [],
   "source": [
    "dic=['7',' ',' ',' ',' ',' ',' ',' ',' ',' ']"
   ]
  },
  {
   "cell_type": "code",
   "execution_count": 14,
   "metadata": {},
   "outputs": [
    {
     "data": {
      "text/plain": [
       "['7', ' ', 'o', ' ', ' ', ' ', 'o', ' ', ' ', ' ']"
      ]
     },
     "execution_count": 14,
     "metadata": {},
     "output_type": "execute_result"
    }
   ],
   "source": [
    "player2='o'\n",
    "dic[2]=player2\n",
    "dic"
   ]
  },
  {
   "cell_type": "code",
   "execution_count": null,
   "metadata": {},
   "outputs": [],
   "source": []
  }
 ],
 "metadata": {
  "kernelspec": {
   "display_name": "Python 3",
   "language": "python",
   "name": "python3"
  },
  "language_info": {
   "codemirror_mode": {
    "name": "ipython",
    "version": 3
   },
   "file_extension": ".py",
   "mimetype": "text/x-python",
   "name": "python",
   "nbconvert_exporter": "python",
   "pygments_lexer": "ipython3",
   "version": "3.7.4"
  }
 },
 "nbformat": 4,
 "nbformat_minor": 2
}
