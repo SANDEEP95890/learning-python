{
 "cells": [
  {
   "cell_type": "markdown",
   "metadata": {},
   "source": [
    "# TIC TAC TOE"
   ]
  },
  {
   "cell_type": "code",
   "execution_count": 1,
   "metadata": {},
   "outputs": [],
   "source": [
    "from IPython.display import clear_output\n",
    "\n",
    "dic=['7',' ',' ',' ',' ',' ',' ',' ',' ',' ']\n",
    "def display():\n",
    "    clear_output(wait=True)\n",
    "    print(dic[1], '|', dic[2], '|', dic[3])\n",
    "    print('---------')\n",
    "    print(dic[4], '|', dic[5], '|', dic[6])\n",
    "    print('---------')\n",
    "    print(dic[7], '|', dic[8], '|', dic[9])\n",
    "    #print('\\n'*5)"
   ]
  },
  {
   "cell_type": "code",
   "execution_count": 2,
   "metadata": {},
   "outputs": [],
   "source": [
    "def check_win():\n",
    "    if dic[1]==dic[2]==dic[3] or dic[3]==dic[6]==dic[9]  :\n",
    "        if dic[3]=='o':\n",
    "            print(\"congo player -o- win\")\n",
    "        elif dic[3]=='x':\n",
    "             print(\"congo player -x- win\")\n",
    "    if dic[1]==dic[4]==dic[7]  or dic[7]==dic[8]==dic[9] :\n",
    "        if dic[7]=='o':\n",
    "            print(\"congo player -o- win\")\n",
    "        elif dic[7]=='x':\n",
    "             print(\"congo player -x- win\")\n",
    "    if dic[1]==dic[5]==dic[9]  or dic[4]==dic[5]==dic[6] or dic[3]==dic[5]==dic[7] or dic[2]==dic[5]==dic[8]:\n",
    "        if dic[5]=='o':\n",
    "            print(\"congo player -o- win\")\n",
    "        elif dic[5]=='x':\n",
    "             print(\"congo player -x- win\")"
   ]
  },
  {
   "cell_type": "code",
   "execution_count": 3,
   "metadata": {},
   "outputs": [],
   "source": [
    "def tie():\n",
    "    if ' ' not in dic:\n",
    "        print('game tie')\n",
    "        return True\n",
    "    else:return False"
   ]
  },
  {
   "cell_type": "code",
   "execution_count": 4,
   "metadata": {},
   "outputs": [],
   "source": [
    "def game(dic):\n",
    "    while True:\n",
    "        position1=int(input('player 1- '))\n",
    "        if position1==0 :\n",
    "            break\n",
    "        else:\n",
    "            while True:\n",
    "                if dic[position1]==' ':\n",
    "                    dic[position1]=player1\n",
    "                    break\n",
    "                else:\n",
    "                    print('\\n no cheat')\n",
    "                    position1=int(input('player 1- '))\n",
    "        display()\n",
    "        if tie() or check_win():\n",
    "            break\n",
    "        position2=int(input('player 2- '))\n",
    "        if position2==0:\n",
    "            break\n",
    "        else:\n",
    "            while True:\n",
    "                if dic[position2]==' ':\n",
    "                    dic[position2]=player2\n",
    "                    break\n",
    "                else:\n",
    "                    print('\\n no cheat')\n",
    "                    position2=int(input('player 2- '))\n",
    "        display()\n",
    "        if tie() or check_win():\n",
    "            break"
   ]
  },
  {
   "cell_type": "code",
   "execution_count": 5,
   "metadata": {},
   "outputs": [
    {
     "name": "stdout",
     "output_type": "stream",
     "text": [
      "x or o\n",
      "player 1---m\n",
      "player 2---x\n",
      "start game   y / n k\n"
     ]
    }
   ],
   "source": [
    "dic=['7',' ',' ',' ',' ',' ',' ',' ',' ',' ']\n",
    "print(\"x or o\")\n",
    "player1=input('player 1---')\n",
    "\n",
    "if player1=='x':\n",
    "    print('player 2---o')\n",
    "    player2='o'\n",
    "else:\n",
    "    print('player 2---x')\n",
    "    player2='x'\n",
    "    \n",
    "dis=input(\"start game   y / n \")\n",
    "if dis =='y':\n",
    "    display()\n",
    "    game(dic)\n",
    "\n"
   ]
  },
  {
   "cell_type": "markdown",
   "metadata": {},
   "source": [
    "# ROCK PAPER SCISSOR"
   ]
  },
  {
   "cell_type": "code",
   "execution_count": 30,
   "metadata": {},
   "outputs": [
    {
     "name": "stdout",
     "output_type": "stream",
     "text": [
      "Please write your name: sa\n",
      "\n",
      "Hello, sa\n",
      "Welcome to Rock, Paper, Scissors game.\n",
      "\n",
      "----Main Menu---\n",
      "\n",
      "Press 1 for Help.\n",
      "Press 2 for Play.\n",
      "Press 3 for Quit.\n",
      "\n",
      "\n",
      "please select your option: \n",
      "3\n",
      "you have selected:  3\n"
     ]
    },
    {
     "ename": "SystemExit",
     "evalue": "Thank you for Playing. See you next time!",
     "output_type": "error",
     "traceback": [
      "An exception has occurred, use %tb to see the full traceback.\n",
      "\u001b[1;31mSystemExit\u001b[0m\u001b[1;31m:\u001b[0m Thank you for Playing. See you next time!\n"
     ]
    }
   ],
   "source": [
    "# This will be my first game... \n",
    "#\n",
    "\n",
    "import random\n",
    "import sys\n",
    "import os\n",
    "import time\n",
    "\n",
    "os.system('clear')\n",
    "name = input(\"Please write your name: \")\n",
    "\n",
    "# ***** GAME HELP MENU *****\n",
    "\n",
    "def game_information():\n",
    "\tprint(\"\"\" \n",
    "\n",
    "-------     Help Menu     ------- \n",
    "\n",
    "This information will help you for the rules. \n",
    "Game has 3 elements and 3 conditions.\n",
    "Rock, Paper and Scissors.\n",
    "\n",
    "Rock crushes Scissors\n",
    "Scissors cuts Paper\n",
    "Paper cover Rock.\n",
    "\n",
    "Game will ask you to input your choice and result will be printed.\n",
    "to choice an element press;\n",
    "\n",
    "R for Rock\n",
    "P for Paper\n",
    "S for Scissors\n",
    "\n",
    "-------     Good Luck     -------\n",
    "\n",
    "\"\"\")\n",
    "\ttime.sleep(3)\n",
    "\n",
    "# ***** GAME MAIN MENU *****\n",
    "\n",
    "def main_menu():\n",
    "\tprint(\"\\nHello, \" + name + \"\"\"\\nWelcome to Rock, Paper, Scissors game.\n",
    "\n",
    "----Main Menu---\n",
    "\n",
    "Press 1 for Help.\n",
    "Press 2 for Play.\n",
    "Press 3 for Quit.\n",
    "\n",
    "\"\"\")\n",
    "\n",
    "\tmenu_selection_word = input(\"please select your option: \\n\")\n",
    "\ttry:\n",
    "\t\tmenu_selection_int = int(menu_selection_word)\n",
    "\t\tprint(\"you have selected: \", menu_selection_int)\n",
    "\texcept ValueError:\n",
    "\t\tprint(\" Invalid selection\")\n",
    "\t\tmain_menu()\n",
    "\t\n",
    "\tif menu_selection_int == 1:\n",
    "\t\tos.system('clear')\n",
    "\t\tgame_information()\n",
    "\t\tmain_menu()\n",
    "\telif menu_selection_int == 2:\n",
    "\t\tplay_game()\n",
    "\telif menu_selection_int == 3:\n",
    "\t\tgame_quit()\n",
    "\telse:\n",
    "\t\tprint(\"Invaild selection \\n\")\n",
    "\t\tmain_menu()\n",
    "\n",
    "# ***** REPEAT GAME *****\n",
    "\n",
    "def repeat_game():\t\n",
    "\trepeat_game_selection = input(\"\"\"\n",
    "Please select \n",
    "1 - New game\n",
    "2 - Quit \\n\"\"\")\n",
    "\ttry:\n",
    "\t\trepeat_game_select = int(repeat_game_selection)\n",
    "\texcept ValueError:\n",
    "\t\tprint(\" Invalid selection\")\n",
    "\t\trepeat_game()\n",
    "\tif repeat_game_select == 1:\n",
    "\t\tprint(\"New Game begins \\n\")\n",
    "\t\tplay_game()\n",
    "\telif repeat_game_select == 2:\n",
    "\t\tgame_quit()\n",
    "\telse:\n",
    "\t\tprint(\"Invaild selection \\n\")\n",
    "\t\trepeat_game()\n",
    "\n",
    "# ***** GAME QUIT *****\n",
    "\n",
    "def game_quit():\n",
    "\tos.system('clear')\n",
    "\tsys.exit(\"Thank you for Playing. See you next time!\")\n",
    "\n",
    "# ***** Play GAME *****\n",
    "\n",
    "def play_game():\n",
    "\tplayer_selection_input = input(\"Please Select your Element. \\nR for Rock\\nP for Paper\\nS for scissors \\n\")\n",
    "\t\n",
    "\tif player_selection_input == \"R\" or player_selection_input == \"r\":\n",
    "\t\tprint(\"You have selected Rock\")\n",
    "\telif player_selection_input == \"S\" or player_selection_input == \"s\":\n",
    "\t\tprint(\"You have selected Scissors\")\n",
    "\n",
    "\telif player_selection_input == \"P\" or player_selection_input == \"p\":\n",
    "\t\tprint(\"You have selected Paper\")\n",
    "\telse:\n",
    "\t\tprint(\"Invaild selection \\n\")\n",
    "\t\tplay_game()\n",
    "\n",
    "\tcomp_random = [\"R\", \"r\", \"S\", \"s\", \"P\", \"p\"]\n",
    "\tcomp_selection = random.choice(comp_random)\n",
    "\ttime.sleep(1)\n",
    "\tif comp_selection == \"R\" or comp_selection == \"r\":\t\t\n",
    "\t\tprint(\"Computer Selected: Rock\")\n",
    "\telif comp_selection == \"P\" or comp_selection == \"p\":\t\t\n",
    "\t\tprint(\"Computer Selected: Paper\")\n",
    "\telse:\t\t\n",
    "\t\tprint(\"Computer Selected: Scissors\")\n",
    "\t\n",
    "\tif player_selection_input == \"R\" or player_selection_input == \"r\":\n",
    "\t\tif comp_selection == \"S\" or comp_selection == \"s\":\n",
    "\t\t\tprint(\"Your Rock crushed computer's scissors! You Won!\")\t\t\t\n",
    "\t\t\ttime.sleep(2)\n",
    "\t\telif comp_selection == \"R\" or comp_selection == \"r\":\n",
    "\t\t\tprint(\"It is a tie!\")\n",
    "\t\t\ttime.sleep(2)\n",
    "\t\telse:\n",
    "\t\t\tprint(\"Computer's Paper covered your Rock! You Lost!\")\t\t\t\n",
    "\t\t\ttime.sleep(2)\n",
    "\telif player_selection_input == \"S\" or player_selection_input == \"s\":\n",
    "\t\tif comp_selection == \"S\" or comp_selection == \"s\":\n",
    "\t\t\tprint(\" It is a tie!\")\n",
    "\t\t\ttime.sleep(2)\n",
    "\t\telif comp_selection == \"R\" or comp_selection == \"r\":\n",
    "\t\t\tprint(\"Computer's Rock crushed your Scissors. You Lost!\")\n",
    "\t\t\ttime.sleep(2)\n",
    "\t\telse:\n",
    "\t\t\tprint(\"Your Scissors cut computer's Paper. You Won!\")\n",
    "\t\t\ttime.sleep(2)\n",
    "\telif player_selection_input == \"P\" or player_selection_input == \"p\":\n",
    "\t\tif comp_selection == \"R\" or comp_selection == \"r\":\n",
    "\t\t\tprint(\"Your Paper covered computer's Rock. You Won!\")\n",
    "\t\t\ttime.sleep(2)\n",
    "\t\telif comp_selection == \"S\" or comp_selection == \"s\":\n",
    "\t\t\tprint(\"Computer's Scissors cut your Paper. You Lost!\")\n",
    "\t\t\ttime.sleep(2)\n",
    "\t\telse:\n",
    "\t\t\tprint(\" It is a tie!\")\n",
    "\t\t\ttime.sleep(2)\t\n",
    "\treturn repeat_game()\n",
    "main_menu()\n",
    "\n"
   ]
  },
  {
   "cell_type": "markdown",
   "metadata": {},
   "source": [
    "# SUDOKU"
   ]
  },
  {
   "cell_type": "code",
   "execution_count": 1,
   "metadata": {},
   "outputs": [],
   "source": [
    "from IPython.display import clear_output\n",
    "\n",
    "data=['#',' 1',' 2',' 3',' 4',' 5',' 6',' 7',' 8',' 9','10']\n",
    "for i in range(11,37):\n",
    "    data.append(str(i))\n",
    "\n",
    "def disp(data):\n",
    "    clear_output(wait=True)\n",
    "    print(data[1], '|', data[2], '|', data[3],':',data[4], '|', data[5], '|', data[6])\n",
    "    print('---------------------------')\n",
    "    print(data[7], '|', data[8], '|', data[9],':',data[10], '|', data[11], '|', data[12])\n",
    "    print('---------------------------')\n",
    "    print(data[13], '|', data[14], '|', data[15],':',data[16], '|', data[17], '|', data[18])\n",
    "    print('~~~~~~~~~~~~~~~~~~~~~~~~~~~')\n",
    "    print(data[19], '|', data[20], '|', data[21],':',data[22], '|', data[23], '|', data[24])\n",
    "    print('---------------------------')\n",
    "    print(data[25], '|', data[26], '|', data[27],':',data[28], '|', data[29], '|', data[30])\n",
    "    print('---------------------------')\n",
    "    print(data[31], '|', data[32], '|', data[33],':',data[34], '|', data[35], '|', data[36])\n",
    "    "
   ]
  },
  {
   "cell_type": "code",
   "execution_count": 2,
   "metadata": {},
   "outputs": [],
   "source": [
    "def win():\n",
    "    pass"
   ]
  },
  {
   "cell_type": "code",
   "execution_count": 3,
   "metadata": {},
   "outputs": [],
   "source": [
    "def sudoku(data):\n",
    "    disp(data)\n",
    "    while True:\n",
    "        position=int(input('position(1-36) - '))\n",
    "        while position>36:\n",
    "            print('\\nplease input psition 1-36 or 0 to exit')\n",
    "            position=int(input('position(1-36) - '))\n",
    "        if position==0:\n",
    "            break\n",
    "        else:\n",
    "            data[position]=int(input('value(1-6) - '))\n",
    "            while data[position]>6 or data[position]<1:\n",
    "                print('\\nplease input 1-6 ')\n",
    "                data[position]=int(input('value(1-6) - '))\n",
    "            \n",
    "        disp(data)\n",
    "      "
   ]
  },
  {
   "cell_type": "code",
   "execution_count": null,
   "metadata": {},
   "outputs": [
    {
     "name": "stdout",
     "output_type": "stream",
     "text": [
      " 1 |  2 |  3 :  4 |  5 |  6\n",
      "---------------------------\n",
      " 7 |  8 |  9 : 10 | 11 | 12\n",
      "---------------------------\n",
      "13 | 14 | 15 : 16 | 17 | 18\n",
      "~~~~~~~~~~~~~~~~~~~~~~~~~~~\n",
      "19 | 20 | 21 : 22 | 23 | 24\n",
      "---------------------------\n",
      "25 | 26 | 27 : 28 | 29 | 30\n",
      "---------------------------\n",
      "31 | 32 | 33 : 6 | 35 | 36\n"
     ]
    }
   ],
   "source": [
    "print('----SUDOKU----')\n",
    "\n",
    "\n",
    "start=input(\"start game   y / n \")\n",
    "if start =='y':\n",
    "    disp(data)\n",
    "    sudoku(data)\n"
   ]
  },
  {
   "cell_type": "code",
   "execution_count": 1,
   "metadata": {},
   "outputs": [
    {
     "ename": "NameError",
     "evalue": "name 'disp' is not defined",
     "output_type": "error",
     "traceback": [
      "\u001b[1;31m---------------------------------------------------------------------------\u001b[0m",
      "\u001b[1;31mNameError\u001b[0m                                 Traceback (most recent call last)",
      "\u001b[1;32m<ipython-input-1-4c4f1a4363e7>\u001b[0m in \u001b[0;36m<module>\u001b[1;34m\u001b[0m\n\u001b[1;32m----> 1\u001b[1;33m \u001b[0mdisp\u001b[0m\u001b[1;33m(\u001b[0m\u001b[0mdata\u001b[0m\u001b[1;33m)\u001b[0m\u001b[1;33m\u001b[0m\u001b[1;33m\u001b[0m\u001b[0m\n\u001b[0m\u001b[0;32m      2\u001b[0m \u001b[1;32mpass\u001b[0m\u001b[1;33m\u001b[0m\u001b[1;33m\u001b[0m\u001b[0m\n",
      "\u001b[1;31mNameError\u001b[0m: name 'disp' is not defined"
     ]
    }
   ],
   "source": [
    "disp(data)\n",
    "pass"
   ]
  },
  {
   "cell_type": "code",
   "execution_count": null,
   "metadata": {},
   "outputs": [],
   "source": []
  },
  {
   "cell_type": "code",
   "execution_count": null,
   "metadata": {},
   "outputs": [],
   "source": []
  }
 ],
 "metadata": {
  "kernelspec": {
   "display_name": "Python 3",
   "language": "python",
   "name": "python3"
  },
  "language_info": {
   "codemirror_mode": {
    "name": "ipython",
    "version": 3
   },
   "file_extension": ".py",
   "mimetype": "text/x-python",
   "name": "python",
   "nbconvert_exporter": "python",
   "pygments_lexer": "ipython3",
   "version": "3.7.4"
  }
 },
 "nbformat": 4,
 "nbformat_minor": 2
}
