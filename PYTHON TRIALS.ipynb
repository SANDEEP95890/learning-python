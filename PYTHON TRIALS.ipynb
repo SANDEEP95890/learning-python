{
 "cells": [
  {
   "cell_type": "code",
   "execution_count": 1,
   "metadata": {},
   "outputs": [],
   "source": [
    "print(\"asdfg\")"
   ]
  },
  {
   "cell_type": "code",
   "execution_count": 2,
   "metadata": {},
   "outputs": [],
   "source": [
    "a=(1,2,3,45,6,7,8)\n",
    "sum(a)"
   ]
  },
  {
   "cell_type": "code",
   "execution_count": 3,
   "metadata": {},
   "outputs": [],
   "source": [
    "a=['abc','bcd','cde','def','efg']\n",
    "def srt(a,s):\n",
    "    i=ord(s[0])-97\n",
    "    print(a[i],i+1)\n",
    "srt(a,'bc')"
   ]
  },
  {
   "cell_type": "code",
   "execution_count": 32,
   "metadata": {},
   "outputs": [
    {
     "data": {
      "text/plain": [
       "['ABC', 'ACB', 'BAC', 'BCA', 'CAB', 'CBA']"
      ]
     },
     "execution_count": 32,
     "metadata": {},
     "output_type": "execute_result"
    }
   ],
   "source": [
    "from itertools import permutations\n",
    "lst=[]\n",
    "permList = permutations('ABC')\n",
    "\n",
    "for perm in list(permList): \n",
    "     lst.append(''.join(perm))\n",
    "lst"
   ]
  },
  {
   "cell_type": "code",
   "execution_count": 39,
   "metadata": {},
   "outputs": [
    {
     "data": {
      "text/plain": [
       "0"
      ]
     },
     "execution_count": 39,
     "metadata": {},
     "output_type": "execute_result"
    }
   ],
   "source": [
    "str='acb'\n",
    "index=ord(str[0])-97\n",
    "index"
   ]
  },
  {
   "cell_type": "code",
   "execution_count": 70,
   "metadata": {},
   "outputs": [
    {
     "name": "stdout",
     "output_type": "stream",
     "text": [
      "B ['G', 'G', 'R', 'R', 'B', 'R', 'B'] 1\n",
      "R ['R', 'G', 'G', 'R', 'B', 'R', 'B'] 2\n",
      "R ['R', 'R', 'G', 'G', 'B', 'R', 'B'] 3\n",
      "B ['R', 'R', 'G', 'G', 'R', 'B', 'B'] 4\n",
      "B ['R', 'R', 'G', 'G', 'B', 'R', 'B'] 5\n"
     ]
    },
    {
     "data": {
      "text/plain": [
       "['R', 'R', 'G', 'G', 'B', 'R', 'B']"
      ]
     },
     "execution_count": 70,
     "metadata": {},
     "output_type": "execute_result"
    }
   ],
   "source": [
    "rgb=['G', 'B', 'R', 'R', 'B', 'R', 'G']\n",
    "j=0\n",
    "k=6\n",
    "for i in range(6):\n",
    "    if rgb[i]=='R':\n",
    "        rgb[i],rgb[j]= rgb[j],rgb[i]\n",
    "        j+=1\n",
    "        print('R',rgb,i)\n",
    "    elif rgb[i]=='B':\n",
    "        rgb[i],rgb[k]= rgb[k],rgb[i]\n",
    "        k-=1\n",
    "        print('B',rgb,i)\n",
    "rgb"
   ]
  },
  {
   "cell_type": "code",
   "execution_count": null,
   "metadata": {},
   "outputs": [],
   "source": []
  }
 ],
 "metadata": {
  "kernelspec": {
   "display_name": "Python 3",
   "language": "python",
   "name": "python3"
  },
  "language_info": {
   "codemirror_mode": {
    "name": "ipython",
    "version": 3
   },
   "file_extension": ".py",
   "mimetype": "text/x-python",
   "name": "python",
   "nbconvert_exporter": "python",
   "pygments_lexer": "ipython3",
   "version": "3.7.4"
  }
 },
 "nbformat": 4,
 "nbformat_minor": 4
}
